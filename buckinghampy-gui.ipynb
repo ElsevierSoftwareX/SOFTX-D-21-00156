{
 "cells": [
  {
   "cell_type": "markdown",
   "metadata": {},
   "source": [
    "# Buckingham $\\pi$:  Dimensional Analysis\n",
    "**Mokbel Karam, and Prof. Tony Saad (<a href='www.tsaad.net'>www.tsaad.net</a>) <br/>Department of Chemical Engineering <br/>University of Utah**\n",
    "<hr/>\n",
    "This notebook represents the graphical user interface of `buckinghamPy` "
   ]
  },
  {
   "cell_type": "code",
   "execution_count": 1,
   "metadata": {
    "scrolled": false
   },
   "outputs": [
    {
     "data": {
      "application/vnd.jupyter.widget-view+json": {
       "model_id": "d2aaf1eb394c4a74b7a09365ab4fdad0",
       "version_major": 2,
       "version_minor": 0
      },
      "text/plain": [
       "HBox(children=(BoundedIntText(value=0, continuous_update=True, description='Number of Variables:', style=Descr…"
      ]
     },
     "metadata": {},
     "output_type": "display_data"
    }
   ],
   "source": [
    "#HIDDEN\n",
    "from buckinghampy import BuckinghamPiGui\n",
    "GUI=BuckinghamPiGui()"
   ]
  },
  {
   "cell_type": "code",
   "execution_count": 2,
   "metadata": {},
   "outputs": [
    {
     "name": "stdout",
     "output_type": "stream",
     "text": [
      "  sets  Pi 1                               Pi 2                        Pi 3\n",
      "------  ---------------------------------  --------------------------  ---------------------------------\n",
      "     1  \\frac{Y}{L {\\omega_{L}}}           \\frac{P r}{L {\\omega_{L}}}  \\frac{P {\\delta}}{L {\\omega_{L}}}\n",
      "     2  \\frac{L {\\omega_{L}}}{P r}         \\frac{Y}{P r}               \\frac{{\\delta}}{r}\n",
      "     3  \\frac{L {\\omega_{L}}}{P {\\delta}}  \\frac{Y}{P {\\delta}}        \\frac{r}{{\\delta}}\n",
      "     4  \\frac{P r}{L {\\omega_{L}}}         \\frac{Y}{L {\\omega_{L}}}    \\frac{{\\delta}}{r}\n",
      "     5  \\frac{P {\\delta}}{L {\\omega_{L}}}  \\frac{Y}{L {\\omega_{L}}}    \\frac{r}{{\\delta}}\n"
     ]
    }
   ],
   "source": [
    "from buckinghampy import BuckinghamPi\n",
    "\n",
    "Economic_Growth = BuckinghamPi()\n",
    "Economic_Growth.add_variable(name='P',units='K')\n",
    "Economic_Growth.add_variable(name='L',units='Q/T')\n",
    "Economic_Growth.add_variable(name='{\\\\omega_{L}}',units='K/Q')\n",
    "Economic_Growth.add_variable(name='Y',units='K/T',explicit=True)\n",
    "Economic_Growth.add_variable(name='r',units='1/T')\n",
    "Economic_Growth.add_variable(name='{\\\\delta}',units='1/T')\n",
    "\n",
    "Economic_Growth.generate_pi_terms()\n",
    "Economic_Growth.print_all()"
   ]
  },
  {
   "cell_type": "code",
   "execution_count": null,
   "metadata": {},
   "outputs": [],
   "source": []
  }
 ],
 "metadata": {
  "kernelspec": {
   "display_name": "Python 3",
   "language": "python",
   "name": "python3"
  },
  "language_info": {
   "codemirror_mode": {
    "name": "ipython",
    "version": 3
   },
   "file_extension": ".py",
   "mimetype": "text/x-python",
   "name": "python",
   "nbconvert_exporter": "python",
   "pygments_lexer": "ipython3",
   "version": "3.6.8"
  },
  "toc": {
   "colors": {
    "hover_highlight": "#DAA520",
    "navigate_num": "#000000",
    "navigate_text": "#333333",
    "running_highlight": "#FF0000",
    "selected_highlight": "#FFD700",
    "sidebar_border": "#EEEEEE",
    "wrapper_background": "#FFFFFF"
   },
   "moveMenuLeft": true,
   "nav_menu": {
    "height": "46px",
    "width": "252px"
   },
   "navigate_menu": true,
   "number_sections": true,
   "sideBar": true,
   "threshold": 4,
   "toc_cell": false,
   "toc_section_display": "block",
   "toc_window_display": false,
   "widenNotebook": false
  },
  "varInspector": {
   "cols": {
    "lenName": 16,
    "lenType": 16,
    "lenVar": 40
   },
   "kernels_config": {
    "python": {
     "delete_cmd_postfix": "",
     "delete_cmd_prefix": "del ",
     "library": "var_list.py",
     "varRefreshCmd": "print(var_dic_list())"
    },
    "r": {
     "delete_cmd_postfix": ") ",
     "delete_cmd_prefix": "rm(",
     "library": "var_list.r",
     "varRefreshCmd": "cat(var_dic_list()) "
    }
   },
   "types_to_exclude": [
    "module",
    "function",
    "builtin_function_or_method",
    "instance",
    "_Feature"
   ],
   "window_display": false
  }
 },
 "nbformat": 4,
 "nbformat_minor": 2
}
