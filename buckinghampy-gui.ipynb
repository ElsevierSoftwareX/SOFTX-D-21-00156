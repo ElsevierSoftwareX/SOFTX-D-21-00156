{
 "cells": [
  {
   "cell_type": "markdown",
   "metadata": {},
   "source": [
    "# Buckingham $\\pi$:  Dimensional Analysis\n",
    "**Mokbel Karam, and Prof. Tony Saad (<a href='www.tsaad.net'>www.tsaad.net</a>) <br/>Department of Chemical Engineering <br/>University of Utah**\n",
    "<hr/>\n",
    "This notebook represents the graphical user interface of the buckingham pi theorem"
   ]
  },
  {
   "cell_type": "code",
   "execution_count": 4,
   "metadata": {
    "scrolled": false
   },
   "outputs": [
    {
     "data": {
      "application/vnd.jupyter.widget-view+json": {
       "model_id": "02d9107a4fb04aeaa7b07528a0964a45",
       "version_major": 2,
       "version_minor": 0
      },
      "text/plain": [
       "HBox(children=(BoundedIntText(value=0, continuous_update=True, description='Number of Variables:', style=Descr…"
      ]
     },
     "metadata": {},
     "output_type": "display_data"
    }
   ],
   "source": [
    "#HIDDEN\n",
    "from buckinghampy import BuckinghamPiGui\n",
    "GUI=BuckinghamPiGui()"
   ]
  },
  {
   "cell_type": "code",
   "execution_count": 7,
   "metadata": {},
   "outputs": [
    {
     "name": "stdout",
     "output_type": "stream",
     "text": [
      "-----------------\n",
      "P*r/(L*{\\omega_{L}})\n",
      "Y/(L*{\\omega_{L}})\n",
      "{\\delta}/r\n",
      "-----------------\n",
      "P*{\\delta}/(L*{\\omega_{L}})\n",
      "Y/(L*{\\omega_{L}})\n",
      "r/{\\delta}\n",
      "-----------------\n",
      "P*r/Y\n",
      "L*{\\omega_{L}}/Y\n",
      "{\\delta}/r\n",
      "-----------------\n",
      "P*{\\delta}/Y\n",
      "L*{\\omega_{L}}/Y\n",
      "r/{\\delta}\n"
     ]
    }
   ],
   "source": [
    "from buckinghampy import BuckinghamPi\n",
    "\n",
    "Econimic_Growth = BuckinghamPi()\n",
    "Econimic_Growth.add_variable(name='P',expression='K',explicit=True)\n",
    "Econimic_Growth.add_variable(name='L',expression='Q/T')\n",
    "Econimic_Growth.add_variable(name='{\\\\omega_{L}}',expression='K/Q')\n",
    "Econimic_Growth.add_variable(name='Y',expression='K/T')\n",
    "Econimic_Growth.add_variable(name='r',expression='1/T')\n",
    "Econimic_Growth.add_variable(name='{\\\\delta}',expression='1/T')\n",
    "\n",
    "Econimic_Growth.generate_pi_terms()\n",
    "\n",
    "for piterms in Econimic_Growth.pi_terms:\n",
    "  print('-----------------')\n",
    "  for term in piterms:\n",
    "    print(term)\n"
   ]
  },
  {
   "cell_type": "code",
   "execution_count": null,
   "metadata": {},
   "outputs": [],
   "source": []
  }
 ],
 "metadata": {
  "kernelspec": {
   "display_name": "Python 3",
   "language": "python",
   "name": "python3"
  },
  "language_info": {
   "codemirror_mode": {
    "name": "ipython",
    "version": 3
   },
   "file_extension": ".py",
   "mimetype": "text/x-python",
   "name": "python",
   "nbconvert_exporter": "python",
   "pygments_lexer": "ipython3",
   "version": "3.6.8"
  },
  "toc": {
   "colors": {
    "hover_highlight": "#DAA520",
    "navigate_num": "#000000",
    "navigate_text": "#333333",
    "running_highlight": "#FF0000",
    "selected_highlight": "#FFD700",
    "sidebar_border": "#EEEEEE",
    "wrapper_background": "#FFFFFF"
   },
   "moveMenuLeft": true,
   "nav_menu": {
    "height": "46px",
    "width": "252px"
   },
   "navigate_menu": true,
   "number_sections": true,
   "sideBar": true,
   "threshold": 4,
   "toc_cell": false,
   "toc_section_display": "block",
   "toc_window_display": false,
   "widenNotebook": false
  },
  "varInspector": {
   "cols": {
    "lenName": 16,
    "lenType": 16,
    "lenVar": 40
   },
   "kernels_config": {
    "python": {
     "delete_cmd_postfix": "",
     "delete_cmd_prefix": "del ",
     "library": "var_list.py",
     "varRefreshCmd": "print(var_dic_list())"
    },
    "r": {
     "delete_cmd_postfix": ") ",
     "delete_cmd_prefix": "rm(",
     "library": "var_list.r",
     "varRefreshCmd": "cat(var_dic_list()) "
    }
   },
   "types_to_exclude": [
    "module",
    "function",
    "builtin_function_or_method",
    "instance",
    "_Feature"
   ],
   "window_display": false
  }
 },
 "nbformat": 4,
 "nbformat_minor": 2
}
