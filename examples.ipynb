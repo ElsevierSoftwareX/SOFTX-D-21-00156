{
 "cells": [
  {
   "cell_type": "code",
   "execution_count": 1,
   "metadata": {},
   "outputs": [],
   "source": [
    "from IPython.display import Image\n",
    "from IPython.core.display import HTML "
   ]
  },
  {
   "cell_type": "markdown",
   "metadata": {},
   "source": [
    "## Example 1\n",
    "---\n",
    "\n",
    "Consider the flow of a fluid $A$ that has the following density $\\rho$, and a viscosity $\\mu$ down a pipe of diamtere $D$ and surface roughness $e$ at a mean flow velocity $V$"
   ]
  },
  {
   "cell_type": "code",
   "execution_count": 2,
   "metadata": {},
   "outputs": [
    {
     "data": {
      "text/html": [
       "<img src=\"https://www.lmnoeng.com/Pressure/Pressure_Drop_dwg.jpg\"/>"
      ],
      "text/plain": [
       "<IPython.core.display.Image object>"
      ]
     },
     "execution_count": 2,
     "metadata": {},
     "output_type": "execute_result"
    }
   ],
   "source": [
    "Image(url= \"https://www.lmnoeng.com/Pressure/Pressure_Drop_dwg.jpg\")"
   ]
  },
  {
   "cell_type": "markdown",
   "metadata": {},
   "source": [
    "We are measuring the pressure drop in the pipe between two different position $\\Delta p = p_2 - p_1$ separated by a distance $L$.\n",
    "$$\\Delta p_L = f(V, D, \\rho, \\mu, L, e)$$"
   ]
  },
  {
   "cell_type": "markdown",
   "metadata": {},
   "source": [
    "Using Buckingham Pi theorem we can reduce the dimensionality of the problem\n",
    "$$f(V, D, \\rho, \\mu, L, e) \\implies f(\\pi_1, \\pi_2, \\cdots)$$ \n",
    "where $\\pi_i$ are dimensionless parameters constructed from the original variables."
   ]
  },
  {
   "cell_type": "code",
   "execution_count": 3,
   "metadata": {},
   "outputs": [],
   "source": [
    "from src.buckinghampi import BuckinghamPi"
   ]
  },
  {
   "cell_type": "code",
   "execution_count": 4,
   "metadata": {
    "scrolled": false
   },
   "outputs": [
    {
     "name": "stdout",
     "output_type": "stream",
     "text": [
      "-----------------\n",
      "dp/(V**2*rho)\n",
      "L/D\n",
      "mu/(D*V*rho)\n",
      "-----------------\n",
      "D*dp/(V*mu)\n",
      "D*V*rho/mu\n",
      "L/D\n",
      "-----------------\n",
      "dp/(V**2*rho)\n",
      "D/L\n",
      "mu/(L*V*rho)\n",
      "-----------------\n",
      "dp/(V**2*rho)\n",
      "D*V*rho/mu\n",
      "L*V*rho/mu\n",
      "-----------------\n",
      "L*dp/(V*mu)\n",
      "D/L\n",
      "L*V*rho/mu\n",
      "-----------------\n",
      "D**2*dp*rho/mu**2\n",
      "D*V*rho/mu\n",
      "L/D\n",
      "-----------------\n",
      "L**2*dp*rho/mu**2\n",
      "L*V*rho/mu\n",
      "D/L\n"
     ]
    }
   ],
   "source": [
    "pipe_flow = BuckinghamPi()\n",
    "pipe_flow.add_variable(name='dp',expression='m/(l*t**2)',select=True)\n",
    "pipe_flow.add_variable(name='V',expression='l/t')\n",
    "pipe_flow.add_variable(name='D',expression='l')\n",
    "pipe_flow.add_variable(name='rho',expression='m/(l**3)')\n",
    "pipe_flow.add_variable(name='L',expression='l')\n",
    "pipe_flow.add_variable(name='mu',expression='m/(l*t)')\n",
    "# pipe_flow.add_variable(name='e',expression='l')\n",
    "\n",
    "pipe_flow.generate_pi_terms()\n",
    "\n",
    "for piterms in pipe_flow.pi_terms:\n",
    "  print('-----------------')\n",
    "  for term in piterms:\n",
    "    print(term)"
   ]
  },
  {
   "cell_type": "markdown",
   "metadata": {},
   "source": [
    "## Example 2\n",
    "---\n",
    "The stability of a numerical time integrator in a fluid flow simulation for an incompressible flow on a staggered uniform grid is hinged upon the following set of variables:\n",
    "\n",
    "* Advection velocity: $u \\rightarrow \\frac{L}{T}$\n",
    "* Density of the fluid: $\\rho \\rightarrow \\frac{M}{L**3}$\n",
    "* Dynamic viscosity: $\\mu \\rightarrow \\frac{M}{LT}$\n",
    "* Grid spacing: $\\mathrm{d}x \\rightarrow L$\n",
    "* Time step: $\\mathrm{d}t \\rightarrow T$\n",
    "\n",
    "using the Buckingham Pi module we can obtain the dimensionless $\\pi$ terms that describe this example"
   ]
  },
  {
   "cell_type": "code",
   "execution_count": 5,
   "metadata": {},
   "outputs": [
    {
     "name": "stdout",
     "output_type": "stream",
     "text": [
      "-----------------\n",
      "dx*rho*u/mu\n",
      "dt*rho*u**2/mu\n",
      "-----------------\n",
      "mu/(dx*rho*u)\n",
      "dt*u/dx\n",
      "-----------------\n",
      "dx*rho*u/mu\n",
      "dt*u/dx\n",
      "-----------------\n",
      "dx*rho*u/mu\n",
      "dt*mu/(dx**2*rho)\n"
     ]
    }
   ],
   "source": [
    "stability = BuckinghamPi()\n",
    "stability.add_variable('u','L/T')\n",
    "stability.add_variable('rho','M/(L**3)')\n",
    "stability.add_variable('mu','M/(L*T)')\n",
    "stability.add_variable('dx','L')\n",
    "stability.add_variable('dt','T',select=True)\n",
    "stability.generate_pi_terms()\n",
    "\n",
    "for piterms in stability.pi_terms:\n",
    "  print('-----------------')\n",
    "  for term in piterms:\n",
    "    print(term)\n"
   ]
  }
 ],
 "metadata": {
  "kernelspec": {
   "display_name": "Python 3",
   "language": "python",
   "name": "python3"
  },
  "language_info": {
   "codemirror_mode": {
    "name": "ipython",
    "version": 3
   },
   "file_extension": ".py",
   "mimetype": "text/x-python",
   "name": "python",
   "nbconvert_exporter": "python",
   "pygments_lexer": "ipython3",
   "version": "3.6.8"
  },
  "toc": {
   "colors": {
    "hover_highlight": "#DAA520",
    "navigate_num": "#000000",
    "navigate_text": "#333333",
    "running_highlight": "#FF0000",
    "selected_highlight": "#FFD700",
    "sidebar_border": "#EEEEEE",
    "wrapper_background": "#FFFFFF"
   },
   "moveMenuLeft": true,
   "nav_menu": {
    "height": "49px",
    "width": "252px"
   },
   "navigate_menu": true,
   "number_sections": true,
   "sideBar": true,
   "threshold": 4,
   "toc_cell": false,
   "toc_section_display": "block",
   "toc_window_display": false,
   "widenNotebook": false
  },
  "varInspector": {
   "cols": {
    "lenName": 16,
    "lenType": 16,
    "lenVar": 40
   },
   "kernels_config": {
    "python": {
     "delete_cmd_postfix": "",
     "delete_cmd_prefix": "del ",
     "library": "var_list.py",
     "varRefreshCmd": "print(var_dic_list())"
    },
    "r": {
     "delete_cmd_postfix": ") ",
     "delete_cmd_prefix": "rm(",
     "library": "var_list.r",
     "varRefreshCmd": "cat(var_dic_list()) "
    }
   },
   "types_to_exclude": [
    "module",
    "function",
    "builtin_function_or_method",
    "instance",
    "_Feature"
   ],
   "window_display": false
  }
 },
 "nbformat": 4,
 "nbformat_minor": 4
}
