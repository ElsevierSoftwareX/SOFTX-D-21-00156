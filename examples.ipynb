{
 "cells": [
  {
   "cell_type": "code",
   "execution_count": 1,
   "metadata": {},
   "outputs": [],
   "source": [
    "from src.buckinghampi import BuckinghamPi"
   ]
  },
  {
   "cell_type": "markdown",
   "metadata": {},
   "source": [
    "## Example 1:\n",
    "---"
   ]
  },
  {
   "cell_type": "code",
   "execution_count": 2,
   "metadata": {},
   "outputs": [
    {
     "name": "stderr",
     "output_type": "stream",
     "text": [
      "100%|██████████| 5040/5040 [00:14<00:00, 348.37it/s]\n"
     ]
    },
    {
     "name": "stdout",
     "output_type": "stream",
     "text": [
      "[[ 0.  1.  1.  0.  0.  0.  0.]\n",
      " [ 1. -3. -1.  1.  0.  1.  0.]\n",
      " [-1.  0. -1.  0.  1.  0. -1.]\n",
      " [ 0.  0.  0.  0.  0.  0.  0.]\n",
      " [ 0.  0.  0.  0.  0.  0.  0.]\n",
      " [ 0.  0.  0.  0.  0.  0.  0.]\n",
      " [ 0.  0.  0.  0.  0.  0.  0.]]\n",
      "-----------------\n",
      "N*dt\n",
      "dx/D\n",
      "D**2*N*rho/mu\n",
      "u/(D*N)\n",
      "-----------------\n",
      "N*dt\n",
      "dx/D\n",
      "mu/(D**2*N*rho)\n",
      "u/(D*N)\n",
      "-----------------\n",
      "N*dt\n",
      "dx/D\n",
      "dt*u/D\n",
      "D**2*rho/(dt*mu)\n",
      "-----------------\n",
      "N*dt\n",
      "dx/D\n",
      "dt*u/D\n",
      "dt*mu/(D**2*rho)\n",
      "-----------------\n",
      "D/dx\n",
      "N*dt\n",
      "mu/(N*dx**2*rho)\n",
      "u/(N*dx)\n",
      "-----------------\n",
      "D/dx\n",
      "u/(N*dx)\n",
      "N*dt\n",
      "N*dx**2*rho/mu\n",
      "-----------------\n",
      "N*dt\n",
      "dt*u/dx\n",
      "D/dx\n",
      "dx**2*rho/(dt*mu)\n",
      "-----------------\n",
      "N*dt\n",
      "dt*u/dx\n",
      "D/dx\n",
      "dt*mu/(dx**2*rho)\n",
      "-----------------\n",
      "D*sqrt(N)*sqrt(rho)/sqrt(mu)\n",
      "N*dt\n",
      "sqrt(N)*dx*sqrt(rho)/sqrt(mu)\n",
      "sqrt(rho)*u/(sqrt(N)*sqrt(mu))\n",
      "-----------------\n",
      "D*N/u\n",
      "N*dt\n",
      "N*dx/u\n",
      "rho*u**2/(N*mu)\n",
      "-----------------\n",
      "D**2*N*rho/mu\n",
      "dt*mu/(D**2*rho)\n",
      "D*rho*u/mu\n",
      "dx/D\n",
      "-----------------\n",
      "D*N/u\n",
      "dt*u/D\n",
      "D*rho*u/mu\n",
      "dx/D\n",
      "-----------------\n",
      "N*dt\n",
      "sqrt(dt)*sqrt(rho)*u/sqrt(mu)\n",
      "D*sqrt(rho)/(sqrt(dt)*sqrt(mu))\n",
      "dx*sqrt(rho)/(sqrt(dt)*sqrt(mu))\n",
      "-----------------\n",
      "N*dt\n",
      "dt*rho*u**2/mu\n",
      "D/(dt*u)\n",
      "dx/(dt*u)\n",
      "-----------------\n",
      "D/dx\n",
      "N*dx/u\n",
      "dx*rho*u/mu\n",
      "dt*u/dx\n",
      "-----------------\n",
      "dx*rho*u/mu\n",
      "N*dx**2*rho/mu\n",
      "D/dx\n",
      "dt*mu/(dx**2*rho)\n",
      "-----------------\n",
      "D*N/u\n",
      "N*dt\n",
      "N*dx/u\n",
      "N*mu/(rho*u**2)\n",
      "-----------------\n",
      "D*N/u\n",
      "dt*u/D\n",
      "mu/(D*rho*u)\n",
      "dx/D\n",
      "-----------------\n",
      "N*dt\n",
      "mu/(dt*rho*u**2)\n",
      "D/(dt*u)\n",
      "dx/(dt*u)\n",
      "-----------------\n",
      "D/dx\n",
      "N*dx/u\n",
      "mu/(dx*rho*u)\n",
      "dt*u/dx\n",
      "-----------------\n",
      "N*mu/(rho*u**2)\n",
      "D*rho*u/mu\n",
      "dt*rho*u**2/mu\n",
      "dx*rho*u/mu\n"
     ]
    }
   ],
   "source": [
    "m = BuckinghamPi('m l t')\n",
    "m.add_variable('u','l/t')\n",
    "m.add_variable('rho','m/(l**3)')\n",
    "m.add_variable('mu','m/(l*t)')\n",
    "m.add_variable('dx','l')\n",
    "m.add_variable('dt','t')\n",
    "m.add_variable('D','l')\n",
    "m.add_variable('N','1/t')\n",
    "m.generate_pi_terms()\n",
    "print(m.M)\n",
    "for piterms in m.pi_terms:\n",
    "  print('-----------------')\n",
    "  for term in piterms:\n",
    "    print(term)\n"
   ]
  },
  {
   "cell_type": "markdown",
   "metadata": {},
   "source": [
    "## Example 2:\n",
    "---"
   ]
  },
  {
   "cell_type": "code",
   "execution_count": 3,
   "metadata": {},
   "outputs": [
    {
     "name": "stderr",
     "output_type": "stream",
     "text": [
      "100%|██████████| 120/120 [00:00<00:00, 413.02it/s]\n"
     ]
    },
    {
     "name": "stdout",
     "output_type": "stream",
     "text": [
      "-----------------\n",
      "mu/(D**2*N*p)\n",
      "P/(D**5*N**3*p)\n",
      "-----------------\n",
      "D*sqrt(N)*sqrt(p)/sqrt(mu)\n",
      "P*p**(3/2)/(sqrt(N)*mu**(5/2))\n",
      "-----------------\n",
      "D*N**(3/5)*p**(1/5)/P**(1/5)\n",
      "N**(1/5)*mu/(P**(2/5)*p**(3/5))\n",
      "-----------------\n",
      "P/(D**3*N**2*mu)\n",
      "D**2*N*p/mu\n",
      "-----------------\n",
      "D**3*N**2*mu/P\n",
      "D**5*N**3*p/P\n",
      "-----------------\n",
      "D**2*N*p/mu\n",
      "D*P*p**2/mu**3\n",
      "-----------------\n",
      "D*P*p**2/mu**3\n",
      "N*mu**5/(P**2*p**3)\n",
      "-----------------\n",
      "D**(3/2)*N*sqrt(mu)/sqrt(P)\n",
      "sqrt(D)*sqrt(P)*p/mu**(3/2)\n",
      "-----------------\n",
      "P**(2/3)*p/(N**(1/3)*mu**(5/3))\n",
      "D*N**(2/3)*mu**(1/3)/P**(1/3)\n",
      "-----------------\n",
      "D**(5/3)*N*p**(1/3)/P**(1/3)\n",
      "mu/(D**(1/3)*P**(1/3)*p**(2/3))\n"
     ]
    }
   ],
   "source": [
    "m2 = BuckinghamPi('m l t')\n",
    "m2.add_variable('P','m*l**2/(t**3)')\n",
    "m2.add_variable('mu','m/(l*t)')\n",
    "m2.add_variable('N','1/t')\n",
    "m2.add_variable('D','l')\n",
    "m2.add_variable('p','m/(l**3)')\n",
    "m2.generate_pi_terms()\n",
    "\n",
    "for piterms in m2.pi_terms:\n",
    "  print('-----------------')\n",
    "  for term in piterms:\n",
    "    print(term)\n"
   ]
  },
  {
   "cell_type": "code",
   "execution_count": null,
   "metadata": {},
   "outputs": [],
   "source": []
  }
 ],
 "metadata": {
  "kernelspec": {
   "display_name": "Python 3",
   "language": "python",
   "name": "python3"
  },
  "language_info": {
   "codemirror_mode": {
    "name": "ipython",
    "version": 3
   },
   "file_extension": ".py",
   "mimetype": "text/x-python",
   "name": "python",
   "nbconvert_exporter": "python",
   "pygments_lexer": "ipython3",
   "version": "3.8.3"
  },
  "toc": {
   "colors": {
    "hover_highlight": "#DAA520",
    "navigate_num": "#000000",
    "navigate_text": "#333333",
    "running_highlight": "#FF0000",
    "selected_highlight": "#FFD700",
    "sidebar_border": "#EEEEEE",
    "wrapper_background": "#FFFFFF"
   },
   "moveMenuLeft": true,
   "nav_menu": {
    "height": "49px",
    "width": "252px"
   },
   "navigate_menu": true,
   "number_sections": true,
   "sideBar": true,
   "threshold": 4,
   "toc_cell": false,
   "toc_section_display": "block",
   "toc_window_display": false,
   "widenNotebook": false
  },
  "varInspector": {
   "cols": {
    "lenName": 16,
    "lenType": 16,
    "lenVar": 40
   },
   "kernels_config": {
    "python": {
     "delete_cmd_postfix": "",
     "delete_cmd_prefix": "del ",
     "library": "var_list.py",
     "varRefreshCmd": "print(var_dic_list())"
    },
    "r": {
     "delete_cmd_postfix": ") ",
     "delete_cmd_prefix": "rm(",
     "library": "var_list.r",
     "varRefreshCmd": "cat(var_dic_list()) "
    }
   },
   "types_to_exclude": [
    "module",
    "function",
    "builtin_function_or_method",
    "instance",
    "_Feature"
   ],
   "window_display": false
  }
 },
 "nbformat": 4,
 "nbformat_minor": 2
}
